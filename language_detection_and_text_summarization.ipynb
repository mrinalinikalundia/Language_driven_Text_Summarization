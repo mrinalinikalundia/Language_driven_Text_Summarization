{
  "cells": [
    {
      "cell_type": "code",
      "execution_count": 1,
      "metadata": {
        "id": "YqYVYtmWXN58"
      },
      "outputs": [],
      "source": [
        "import pandas as pd\n",
        "import numpy as np\n",
        "import matplotlib.pyplot as plt\n",
        "import seaborn as sns"
      ]
    },
    {
      "cell_type": "code",
      "execution_count": 2,
      "metadata": {
        "id": "n1R4Xq3HjuQr"
      },
      "outputs": [],
      "source": [
        "df=pd.read_csv('/content/Language Detection.csv.zip')"
      ]
    },
    {
      "cell_type": "code",
      "execution_count": 3,
      "metadata": {
        "colab": {
          "base_uri": "https://localhost:8080/",
          "height": 424
        },
        "id": "vlx2SEdXkHfg",
        "outputId": "5289a872-eaa7-475b-861f-a8de20395b86"
      },
      "outputs": [
        {
          "output_type": "execute_result",
          "data": {
            "text/plain": [
              "                                                    Text Language\n",
              "0       Nature, in the broadest sense, is the natural...  English\n",
              "1      \"Nature\" can refer to the phenomena of the phy...  English\n",
              "2      The study of nature is a large, if not the onl...  English\n",
              "3      Although humans are part of nature, human acti...  English\n",
              "4      [1] The word nature is borrowed from the Old F...  English\n",
              "...                                                  ...      ...\n",
              "10332  ನಿಮ್ಮ ತಪ್ಪು ಏನು ಬಂದಿದೆಯೆಂದರೆ ಆ ದಿನದಿಂದ ನಿಮಗೆ ಒ...  Kannada\n",
              "10333  ನಾರ್ಸಿಸಾ ತಾನು ಮೊದಲಿಗೆ ಹೆಣಗಾಡುತ್ತಿದ್ದ ಮಾರ್ಗಗಳನ್...  Kannada\n",
              "10334  ಹೇಗೆ ' ನಾರ್ಸಿಸಿಸಮ್ ಈಗ ಮರಿಯನ್ ಅವರಿಗೆ ಸಂಭವಿಸಿದ ಎ...  Kannada\n",
              "10335  ಅವಳು ಈಗ ಹೆಚ್ಚು ಚಿನ್ನದ ಬ್ರೆಡ್ ಬಯಸುವುದಿಲ್ಲ ಎಂದು ...  Kannada\n",
              "10336  ಟೆರ್ರಿ ನೀವು ನಿಜವಾಗಿಯೂ ಆ ದೇವದೂತನಂತೆ ಸ್ವಲ್ಪ ಕಾಣು...  Kannada\n",
              "\n",
              "[10337 rows x 2 columns]"
            ],
            "text/html": [
              "\n",
              "  <div id=\"df-6fc03c03-c75a-43fc-ae26-8ed93ea79fc7\">\n",
              "    <div class=\"colab-df-container\">\n",
              "      <div>\n",
              "<style scoped>\n",
              "    .dataframe tbody tr th:only-of-type {\n",
              "        vertical-align: middle;\n",
              "    }\n",
              "\n",
              "    .dataframe tbody tr th {\n",
              "        vertical-align: top;\n",
              "    }\n",
              "\n",
              "    .dataframe thead th {\n",
              "        text-align: right;\n",
              "    }\n",
              "</style>\n",
              "<table border=\"1\" class=\"dataframe\">\n",
              "  <thead>\n",
              "    <tr style=\"text-align: right;\">\n",
              "      <th></th>\n",
              "      <th>Text</th>\n",
              "      <th>Language</th>\n",
              "    </tr>\n",
              "  </thead>\n",
              "  <tbody>\n",
              "    <tr>\n",
              "      <th>0</th>\n",
              "      <td>Nature, in the broadest sense, is the natural...</td>\n",
              "      <td>English</td>\n",
              "    </tr>\n",
              "    <tr>\n",
              "      <th>1</th>\n",
              "      <td>\"Nature\" can refer to the phenomena of the phy...</td>\n",
              "      <td>English</td>\n",
              "    </tr>\n",
              "    <tr>\n",
              "      <th>2</th>\n",
              "      <td>The study of nature is a large, if not the onl...</td>\n",
              "      <td>English</td>\n",
              "    </tr>\n",
              "    <tr>\n",
              "      <th>3</th>\n",
              "      <td>Although humans are part of nature, human acti...</td>\n",
              "      <td>English</td>\n",
              "    </tr>\n",
              "    <tr>\n",
              "      <th>4</th>\n",
              "      <td>[1] The word nature is borrowed from the Old F...</td>\n",
              "      <td>English</td>\n",
              "    </tr>\n",
              "    <tr>\n",
              "      <th>...</th>\n",
              "      <td>...</td>\n",
              "      <td>...</td>\n",
              "    </tr>\n",
              "    <tr>\n",
              "      <th>10332</th>\n",
              "      <td>ನಿಮ್ಮ ತಪ್ಪು ಏನು ಬಂದಿದೆಯೆಂದರೆ ಆ ದಿನದಿಂದ ನಿಮಗೆ ಒ...</td>\n",
              "      <td>Kannada</td>\n",
              "    </tr>\n",
              "    <tr>\n",
              "      <th>10333</th>\n",
              "      <td>ನಾರ್ಸಿಸಾ ತಾನು ಮೊದಲಿಗೆ ಹೆಣಗಾಡುತ್ತಿದ್ದ ಮಾರ್ಗಗಳನ್...</td>\n",
              "      <td>Kannada</td>\n",
              "    </tr>\n",
              "    <tr>\n",
              "      <th>10334</th>\n",
              "      <td>ಹೇಗೆ ' ನಾರ್ಸಿಸಿಸಮ್ ಈಗ ಮರಿಯನ್ ಅವರಿಗೆ ಸಂಭವಿಸಿದ ಎ...</td>\n",
              "      <td>Kannada</td>\n",
              "    </tr>\n",
              "    <tr>\n",
              "      <th>10335</th>\n",
              "      <td>ಅವಳು ಈಗ ಹೆಚ್ಚು ಚಿನ್ನದ ಬ್ರೆಡ್ ಬಯಸುವುದಿಲ್ಲ ಎಂದು ...</td>\n",
              "      <td>Kannada</td>\n",
              "    </tr>\n",
              "    <tr>\n",
              "      <th>10336</th>\n",
              "      <td>ಟೆರ್ರಿ ನೀವು ನಿಜವಾಗಿಯೂ ಆ ದೇವದೂತನಂತೆ ಸ್ವಲ್ಪ ಕಾಣು...</td>\n",
              "      <td>Kannada</td>\n",
              "    </tr>\n",
              "  </tbody>\n",
              "</table>\n",
              "<p>10337 rows × 2 columns</p>\n",
              "</div>\n",
              "      <button class=\"colab-df-convert\" onclick=\"convertToInteractive('df-6fc03c03-c75a-43fc-ae26-8ed93ea79fc7')\"\n",
              "              title=\"Convert this dataframe to an interactive table.\"\n",
              "              style=\"display:none;\">\n",
              "        \n",
              "  <svg xmlns=\"http://www.w3.org/2000/svg\" height=\"24px\"viewBox=\"0 0 24 24\"\n",
              "       width=\"24px\">\n",
              "    <path d=\"M0 0h24v24H0V0z\" fill=\"none\"/>\n",
              "    <path d=\"M18.56 5.44l.94 2.06.94-2.06 2.06-.94-2.06-.94-.94-2.06-.94 2.06-2.06.94zm-11 1L8.5 8.5l.94-2.06 2.06-.94-2.06-.94L8.5 2.5l-.94 2.06-2.06.94zm10 10l.94 2.06.94-2.06 2.06-.94-2.06-.94-.94-2.06-.94 2.06-2.06.94z\"/><path d=\"M17.41 7.96l-1.37-1.37c-.4-.4-.92-.59-1.43-.59-.52 0-1.04.2-1.43.59L10.3 9.45l-7.72 7.72c-.78.78-.78 2.05 0 2.83L4 21.41c.39.39.9.59 1.41.59.51 0 1.02-.2 1.41-.59l7.78-7.78 2.81-2.81c.8-.78.8-2.07 0-2.86zM5.41 20L4 18.59l7.72-7.72 1.47 1.35L5.41 20z\"/>\n",
              "  </svg>\n",
              "      </button>\n",
              "      \n",
              "  <style>\n",
              "    .colab-df-container {\n",
              "      display:flex;\n",
              "      flex-wrap:wrap;\n",
              "      gap: 12px;\n",
              "    }\n",
              "\n",
              "    .colab-df-convert {\n",
              "      background-color: #E8F0FE;\n",
              "      border: none;\n",
              "      border-radius: 50%;\n",
              "      cursor: pointer;\n",
              "      display: none;\n",
              "      fill: #1967D2;\n",
              "      height: 32px;\n",
              "      padding: 0 0 0 0;\n",
              "      width: 32px;\n",
              "    }\n",
              "\n",
              "    .colab-df-convert:hover {\n",
              "      background-color: #E2EBFA;\n",
              "      box-shadow: 0px 1px 2px rgba(60, 64, 67, 0.3), 0px 1px 3px 1px rgba(60, 64, 67, 0.15);\n",
              "      fill: #174EA6;\n",
              "    }\n",
              "\n",
              "    [theme=dark] .colab-df-convert {\n",
              "      background-color: #3B4455;\n",
              "      fill: #D2E3FC;\n",
              "    }\n",
              "\n",
              "    [theme=dark] .colab-df-convert:hover {\n",
              "      background-color: #434B5C;\n",
              "      box-shadow: 0px 1px 3px 1px rgba(0, 0, 0, 0.15);\n",
              "      filter: drop-shadow(0px 1px 2px rgba(0, 0, 0, 0.3));\n",
              "      fill: #FFFFFF;\n",
              "    }\n",
              "  </style>\n",
              "\n",
              "      <script>\n",
              "        const buttonEl =\n",
              "          document.querySelector('#df-6fc03c03-c75a-43fc-ae26-8ed93ea79fc7 button.colab-df-convert');\n",
              "        buttonEl.style.display =\n",
              "          google.colab.kernel.accessAllowed ? 'block' : 'none';\n",
              "\n",
              "        async function convertToInteractive(key) {\n",
              "          const element = document.querySelector('#df-6fc03c03-c75a-43fc-ae26-8ed93ea79fc7');\n",
              "          const dataTable =\n",
              "            await google.colab.kernel.invokeFunction('convertToInteractive',\n",
              "                                                     [key], {});\n",
              "          if (!dataTable) return;\n",
              "\n",
              "          const docLinkHtml = 'Like what you see? Visit the ' +\n",
              "            '<a target=\"_blank\" href=https://colab.research.google.com/notebooks/data_table.ipynb>data table notebook</a>'\n",
              "            + ' to learn more about interactive tables.';\n",
              "          element.innerHTML = '';\n",
              "          dataTable['output_type'] = 'display_data';\n",
              "          await google.colab.output.renderOutput(dataTable, element);\n",
              "          const docLink = document.createElement('div');\n",
              "          docLink.innerHTML = docLinkHtml;\n",
              "          element.appendChild(docLink);\n",
              "        }\n",
              "      </script>\n",
              "    </div>\n",
              "  </div>\n",
              "  "
            ]
          },
          "metadata": {},
          "execution_count": 3
        }
      ],
      "source": [
        "df"
      ]
    },
    {
      "cell_type": "code",
      "execution_count": 4,
      "metadata": {
        "colab": {
          "base_uri": "https://localhost:8080/"
        },
        "id": "MtEtV3bBkJET",
        "outputId": "e26dfd83-b77a-4580-a7ae-3354b000136c"
      },
      "outputs": [
        {
          "output_type": "execute_result",
          "data": {
            "text/plain": [
              "Text        0\n",
              "Language    0\n",
              "dtype: int64"
            ]
          },
          "metadata": {},
          "execution_count": 4
        }
      ],
      "source": [
        "df.isna().sum()"
      ]
    },
    {
      "cell_type": "code",
      "execution_count": 5,
      "metadata": {
        "colab": {
          "base_uri": "https://localhost:8080/",
          "height": 424
        },
        "id": "XC6qM6RukW19",
        "outputId": "3c35f0e7-9330-4e73-c8e5-1365ce3a95d4"
      },
      "outputs": [
        {
          "output_type": "execute_result",
          "data": {
            "text/plain": [
              "                      Text   Language\n",
              "1141            i'm sorry.    English\n",
              "1180            oh my god.    English\n",
              "1196            i'm sorry.    English\n",
              "1724   എന്നോട് ക്ഷമിക്കൂ.  Malayalam\n",
              "1767        ഓ എന്റെ ദൈവമേ.  Malayalam\n",
              "...                    ...        ...\n",
              "9706   Ach du lieber Gott.     German\n",
              "9726      Es tut mir Leid.     German\n",
              "10081    ನನ್ನನ್ನು ಕ್ಷಮಿಸು.    Kannada\n",
              "10125             ಓ ದೇವರೇ.    Kannada\n",
              "10141    ನನ್ನನ್ನು ಕ್ಷಮಿಸು.    Kannada\n",
              "\n",
              "[66 rows x 2 columns]"
            ],
            "text/html": [
              "\n",
              "  <div id=\"df-d5c4dd40-ff3e-4cc3-b0fe-ec81637f3f62\">\n",
              "    <div class=\"colab-df-container\">\n",
              "      <div>\n",
              "<style scoped>\n",
              "    .dataframe tbody tr th:only-of-type {\n",
              "        vertical-align: middle;\n",
              "    }\n",
              "\n",
              "    .dataframe tbody tr th {\n",
              "        vertical-align: top;\n",
              "    }\n",
              "\n",
              "    .dataframe thead th {\n",
              "        text-align: right;\n",
              "    }\n",
              "</style>\n",
              "<table border=\"1\" class=\"dataframe\">\n",
              "  <thead>\n",
              "    <tr style=\"text-align: right;\">\n",
              "      <th></th>\n",
              "      <th>Text</th>\n",
              "      <th>Language</th>\n",
              "    </tr>\n",
              "  </thead>\n",
              "  <tbody>\n",
              "    <tr>\n",
              "      <th>1141</th>\n",
              "      <td>i'm sorry.</td>\n",
              "      <td>English</td>\n",
              "    </tr>\n",
              "    <tr>\n",
              "      <th>1180</th>\n",
              "      <td>oh my god.</td>\n",
              "      <td>English</td>\n",
              "    </tr>\n",
              "    <tr>\n",
              "      <th>1196</th>\n",
              "      <td>i'm sorry.</td>\n",
              "      <td>English</td>\n",
              "    </tr>\n",
              "    <tr>\n",
              "      <th>1724</th>\n",
              "      <td>എന്നോട് ക്ഷമിക്കൂ.</td>\n",
              "      <td>Malayalam</td>\n",
              "    </tr>\n",
              "    <tr>\n",
              "      <th>1767</th>\n",
              "      <td>ഓ എന്റെ ദൈവമേ.</td>\n",
              "      <td>Malayalam</td>\n",
              "    </tr>\n",
              "    <tr>\n",
              "      <th>...</th>\n",
              "      <td>...</td>\n",
              "      <td>...</td>\n",
              "    </tr>\n",
              "    <tr>\n",
              "      <th>9706</th>\n",
              "      <td>Ach du lieber Gott.</td>\n",
              "      <td>German</td>\n",
              "    </tr>\n",
              "    <tr>\n",
              "      <th>9726</th>\n",
              "      <td>Es tut mir Leid.</td>\n",
              "      <td>German</td>\n",
              "    </tr>\n",
              "    <tr>\n",
              "      <th>10081</th>\n",
              "      <td>ನನ್ನನ್ನು ಕ್ಷಮಿಸು.</td>\n",
              "      <td>Kannada</td>\n",
              "    </tr>\n",
              "    <tr>\n",
              "      <th>10125</th>\n",
              "      <td>ಓ ದೇವರೇ.</td>\n",
              "      <td>Kannada</td>\n",
              "    </tr>\n",
              "    <tr>\n",
              "      <th>10141</th>\n",
              "      <td>ನನ್ನನ್ನು ಕ್ಷಮಿಸು.</td>\n",
              "      <td>Kannada</td>\n",
              "    </tr>\n",
              "  </tbody>\n",
              "</table>\n",
              "<p>66 rows × 2 columns</p>\n",
              "</div>\n",
              "      <button class=\"colab-df-convert\" onclick=\"convertToInteractive('df-d5c4dd40-ff3e-4cc3-b0fe-ec81637f3f62')\"\n",
              "              title=\"Convert this dataframe to an interactive table.\"\n",
              "              style=\"display:none;\">\n",
              "        \n",
              "  <svg xmlns=\"http://www.w3.org/2000/svg\" height=\"24px\"viewBox=\"0 0 24 24\"\n",
              "       width=\"24px\">\n",
              "    <path d=\"M0 0h24v24H0V0z\" fill=\"none\"/>\n",
              "    <path d=\"M18.56 5.44l.94 2.06.94-2.06 2.06-.94-2.06-.94-.94-2.06-.94 2.06-2.06.94zm-11 1L8.5 8.5l.94-2.06 2.06-.94-2.06-.94L8.5 2.5l-.94 2.06-2.06.94zm10 10l.94 2.06.94-2.06 2.06-.94-2.06-.94-.94-2.06-.94 2.06-2.06.94z\"/><path d=\"M17.41 7.96l-1.37-1.37c-.4-.4-.92-.59-1.43-.59-.52 0-1.04.2-1.43.59L10.3 9.45l-7.72 7.72c-.78.78-.78 2.05 0 2.83L4 21.41c.39.39.9.59 1.41.59.51 0 1.02-.2 1.41-.59l7.78-7.78 2.81-2.81c.8-.78.8-2.07 0-2.86zM5.41 20L4 18.59l7.72-7.72 1.47 1.35L5.41 20z\"/>\n",
              "  </svg>\n",
              "      </button>\n",
              "      \n",
              "  <style>\n",
              "    .colab-df-container {\n",
              "      display:flex;\n",
              "      flex-wrap:wrap;\n",
              "      gap: 12px;\n",
              "    }\n",
              "\n",
              "    .colab-df-convert {\n",
              "      background-color: #E8F0FE;\n",
              "      border: none;\n",
              "      border-radius: 50%;\n",
              "      cursor: pointer;\n",
              "      display: none;\n",
              "      fill: #1967D2;\n",
              "      height: 32px;\n",
              "      padding: 0 0 0 0;\n",
              "      width: 32px;\n",
              "    }\n",
              "\n",
              "    .colab-df-convert:hover {\n",
              "      background-color: #E2EBFA;\n",
              "      box-shadow: 0px 1px 2px rgba(60, 64, 67, 0.3), 0px 1px 3px 1px rgba(60, 64, 67, 0.15);\n",
              "      fill: #174EA6;\n",
              "    }\n",
              "\n",
              "    [theme=dark] .colab-df-convert {\n",
              "      background-color: #3B4455;\n",
              "      fill: #D2E3FC;\n",
              "    }\n",
              "\n",
              "    [theme=dark] .colab-df-convert:hover {\n",
              "      background-color: #434B5C;\n",
              "      box-shadow: 0px 1px 3px 1px rgba(0, 0, 0, 0.15);\n",
              "      filter: drop-shadow(0px 1px 2px rgba(0, 0, 0, 0.3));\n",
              "      fill: #FFFFFF;\n",
              "    }\n",
              "  </style>\n",
              "\n",
              "      <script>\n",
              "        const buttonEl =\n",
              "          document.querySelector('#df-d5c4dd40-ff3e-4cc3-b0fe-ec81637f3f62 button.colab-df-convert');\n",
              "        buttonEl.style.display =\n",
              "          google.colab.kernel.accessAllowed ? 'block' : 'none';\n",
              "\n",
              "        async function convertToInteractive(key) {\n",
              "          const element = document.querySelector('#df-d5c4dd40-ff3e-4cc3-b0fe-ec81637f3f62');\n",
              "          const dataTable =\n",
              "            await google.colab.kernel.invokeFunction('convertToInteractive',\n",
              "                                                     [key], {});\n",
              "          if (!dataTable) return;\n",
              "\n",
              "          const docLinkHtml = 'Like what you see? Visit the ' +\n",
              "            '<a target=\"_blank\" href=https://colab.research.google.com/notebooks/data_table.ipynb>data table notebook</a>'\n",
              "            + ' to learn more about interactive tables.';\n",
              "          element.innerHTML = '';\n",
              "          dataTable['output_type'] = 'display_data';\n",
              "          await google.colab.output.renderOutput(dataTable, element);\n",
              "          const docLink = document.createElement('div');\n",
              "          docLink.innerHTML = docLinkHtml;\n",
              "          element.appendChild(docLink);\n",
              "        }\n",
              "      </script>\n",
              "    </div>\n",
              "  </div>\n",
              "  "
            ]
          },
          "metadata": {},
          "execution_count": 5
        }
      ],
      "source": [
        "df[df.duplicated()]"
      ]
    },
    {
      "cell_type": "code",
      "execution_count": 6,
      "metadata": {
        "id": "qMUGIlnzkdvt"
      },
      "outputs": [],
      "source": [
        "df.drop(df[df.duplicated()].index, axis=0, inplace=True)"
      ]
    },
    {
      "cell_type": "code",
      "execution_count": 7,
      "metadata": {
        "colab": {
          "base_uri": "https://localhost:8080/"
        },
        "id": "j-kbRJ-1kq03",
        "outputId": "a0f6edc8-5465-4e55-ced2-e80356cef3f4"
      },
      "outputs": [
        {
          "output_type": "execute_result",
          "data": {
            "text/plain": [
              "(10271, 2)"
            ]
          },
          "metadata": {},
          "execution_count": 7
        }
      ],
      "source": [
        "df.shape"
      ]
    },
    {
      "cell_type": "code",
      "execution_count": 8,
      "metadata": {
        "colab": {
          "base_uri": "https://localhost:8080/"
        },
        "id": "_kav2x6skwTS",
        "outputId": "b2b35de3-7e6b-43be-87ac-cc21d689c5b2"
      },
      "outputs": [
        {
          "output_type": "execute_result",
          "data": {
            "text/plain": [
              "17"
            ]
          },
          "metadata": {},
          "execution_count": 8
        }
      ],
      "source": [
        "df[\"Language\"].nunique()"
      ]
    },
    {
      "cell_type": "code",
      "execution_count": 9,
      "metadata": {
        "colab": {
          "base_uri": "https://localhost:8080/"
        },
        "id": "sRhy3mxck1tO",
        "outputId": "ecbf1ae7-7614-455b-d4a2-a089f577a660"
      },
      "outputs": [
        {
          "output_type": "execute_result",
          "data": {
            "text/plain": [
              "English       1382\n",
              "French        1007\n",
              "Spanish        816\n",
              "Portugeese     736\n",
              "Italian        694\n",
              "Russian        688\n",
              "Sweedish       673\n",
              "Malayalam      591\n",
              "Dutch          542\n",
              "Arabic         532\n",
              "Turkish        471\n",
              "German         465\n",
              "Tamil          464\n",
              "Danish         424\n",
              "Kannada        366\n",
              "Greek          358\n",
              "Hindi           62\n",
              "Name: Language, dtype: int64"
            ]
          },
          "metadata": {},
          "execution_count": 9
        }
      ],
      "source": [
        "df.Language.value_counts()"
      ]
    },
    {
      "cell_type": "code",
      "execution_count": 10,
      "metadata": {
        "colab": {
          "base_uri": "https://localhost:8080/",
          "height": 576
        },
        "id": "M_Bfu4t6lD0s",
        "outputId": "64173f00-f8ad-4f2a-b3bb-7a3748f1ca6e"
      },
      "outputs": [
        {
          "output_type": "display_data",
          "data": {
            "text/plain": [
              "<Figure size 1440x576 with 1 Axes>"
            ],
            "image/png": "[encoded data removed]"
          },
          "metadata": {
            "needs_background": "light"
          }
        }
      ],
      "source": [
        "plt.figure(figsize=(20,8))\n",
        "\n",
        "total= float(len(df['Language']))\n",
        "ax= sns.countplot(x= 'Language', data= df, order= df['Language'].value_counts().index, palette= 'pastel')\n",
        "\n",
        "for p in ax.patches:\n",
        "    percentage= '{:.2f}%'.format(100 * p.get_height()/total)\n",
        "    x= p.get_x() + p.get_width()\n",
        "    y= p.get_height()\n",
        "    ax.annotate(percentage, (x, y), fontsize=16, ha='center')\n",
        "    \n",
        "plt.title('Counts and Percentages of Languages', fontsize=24)\n",
        "plt.xlabel(\"Language\",fontsize=20)\n",
        "plt.ylabel(\"Count\", fontsize=20)\n",
        "plt.xticks(size= 18, rotation=90) \n",
        "plt.show()"
      ]
    },
    {
      "cell_type": "code",
      "execution_count": 11,
      "metadata": {
        "colab": {
          "base_uri": "https://localhost:8080/",
          "height": 424
        },
        "id": "uFEk-wI3lKO4",
        "outputId": "9dc94b08-e820-443f-a1a6-a9fc218bf655"
      },
      "outputs": [
        {
          "output_type": "execute_result",
          "data": {
            "text/plain": [
              "                                                    Text Language cleaned_Text\n",
              "0       Nature, in the broadest sense, is the natural...  English             \n",
              "1      \"Nature\" can refer to the phenomena of the phy...  English             \n",
              "2      The study of nature is a large, if not the onl...  English             \n",
              "3      Although humans are part of nature, human acti...  English             \n",
              "4      [1] The word nature is borrowed from the Old F...  English             \n",
              "...                                                  ...      ...          ...\n",
              "10332  ನಿಮ್ಮ ತಪ್ಪು ಏನು ಬಂದಿದೆಯೆಂದರೆ ಆ ದಿನದಿಂದ ನಿಮಗೆ ಒ...  Kannada             \n",
              "10333  ನಾರ್ಸಿಸಾ ತಾನು ಮೊದಲಿಗೆ ಹೆಣಗಾಡುತ್ತಿದ್ದ ಮಾರ್ಗಗಳನ್...  Kannada             \n",
              "10334  ಹೇಗೆ ' ನಾರ್ಸಿಸಿಸಮ್ ಈಗ ಮರಿಯನ್ ಅವರಿಗೆ ಸಂಭವಿಸಿದ ಎ...  Kannada             \n",
              "10335  ಅವಳು ಈಗ ಹೆಚ್ಚು ಚಿನ್ನದ ಬ್ರೆಡ್ ಬಯಸುವುದಿಲ್ಲ ಎಂದು ...  Kannada             \n",
              "10336  ಟೆರ್ರಿ ನೀವು ನಿಜವಾಗಿಯೂ ಆ ದೇವದೂತನಂತೆ ಸ್ವಲ್ಪ ಕಾಣು...  Kannada             \n",
              "\n",
              "[10271 rows x 3 columns]"
            ],
            "text/html": [
              "\n",
              "  <div id=\"df-252d78c5-3197-4a06-9547-1d18b2d84e46\">\n",
              "    <div class=\"colab-df-container\">\n",
              "      <div>\n",
              "<style scoped>\n",
              "    .dataframe tbody tr th:only-of-type {\n",
              "        vertical-align: middle;\n",
              "    }\n",
              "\n",
              "    .dataframe tbody tr th {\n",
              "        vertical-align: top;\n",
              "    }\n",
              "\n",
              "    .dataframe thead th {\n",
              "        text-align: right;\n",
              "    }\n",
              "</style>\n",
              "<table border=\"1\" class=\"dataframe\">\n",
              "  <thead>\n",
              "    <tr style=\"text-align: right;\">\n",
              "      <th></th>\n",
              "      <th>Text</th>\n",
              "      <th>Language</th>\n",
              "      <th>cleaned_Text</th>\n",
              "    </tr>\n",
              "  </thead>\n",
              "  <tbody>\n",
              "    <tr>\n",
              "      <th>0</th>\n",
              "      <td>Nature, in the broadest sense, is the natural...</td>\n",
              "      <td>English</td>\n",
              "      <td></td>\n",
              "    </tr>\n",
              "    <tr>\n",
              "      <th>1</th>\n",
              "      <td>\"Nature\" can refer to the phenomena of the phy...</td>\n",
              "      <td>English</td>\n",
              "      <td></td>\n",
              "    </tr>\n",
              "    <tr>\n",
              "      <th>2</th>\n",
              "      <td>The study of nature is a large, if not the onl...</td>\n",
              "      <td>English</td>\n",
              "      <td></td>\n",
              "    </tr>\n",
              "    <tr>\n",
              "      <th>3</th>\n",
              "      <td>Although humans are part of nature, human acti...</td>\n",
              "      <td>English</td>\n",
              "      <td></td>\n",
              "    </tr>\n",
              "    <tr>\n",
              "      <th>4</th>\n",
              "      <td>[1] The word nature is borrowed from the Old F...</td>\n",
              "      <td>English</td>\n",
              "      <td></td>\n",
              "    </tr>\n",
              "    <tr>\n",
              "      <th>...</th>\n",
              "      <td>...</td>\n",
              "      <td>...</td>\n",
              "      <td>...</td>\n",
              "    </tr>\n",
              "    <tr>\n",
              "      <th>10332</th>\n",
              "      <td>ನಿಮ್ಮ ತಪ್ಪು ಏನು ಬಂದಿದೆಯೆಂದರೆ ಆ ದಿನದಿಂದ ನಿಮಗೆ ಒ...</td>\n",
              "      <td>Kannada</td>\n",
              "      <td></td>\n",
              "    </tr>\n",
              "    <tr>\n",
              "      <th>10333</th>\n",
              "      <td>ನಾರ್ಸಿಸಾ ತಾನು ಮೊದಲಿಗೆ ಹೆಣಗಾಡುತ್ತಿದ್ದ ಮಾರ್ಗಗಳನ್...</td>\n",
              "      <td>Kannada</td>\n",
              "      <td></td>\n",
              "    </tr>\n",
              "    <tr>\n",
              "      <th>10334</th>\n",
              "      <td>ಹೇಗೆ ' ನಾರ್ಸಿಸಿಸಮ್ ಈಗ ಮರಿಯನ್ ಅವರಿಗೆ ಸಂಭವಿಸಿದ ಎ...</td>\n",
              "      <td>Kannada</td>\n",
              "      <td></td>\n",
              "    </tr>\n",
              "    <tr>\n",
              "      <th>10335</th>\n",
              "      <td>ಅವಳು ಈಗ ಹೆಚ್ಚು ಚಿನ್ನದ ಬ್ರೆಡ್ ಬಯಸುವುದಿಲ್ಲ ಎಂದು ...</td>\n",
              "      <td>Kannada</td>\n",
              "      <td></td>\n",
              "    </tr>\n",
              "    <tr>\n",
              "      <th>10336</th>\n",
              "      <td>ಟೆರ್ರಿ ನೀವು ನಿಜವಾಗಿಯೂ ಆ ದೇವದೂತನಂತೆ ಸ್ವಲ್ಪ ಕಾಣು...</td>\n",
              "      <td>Kannada</td>\n",
              "      <td></td>\n",
              "    </tr>\n",
              "  </tbody>\n",
              "</table>\n",
              "<p>10271 rows × 3 columns</p>\n",
              "</div>\n",
              "      <button class=\"colab-df-convert\" onclick=\"convertToInteractive('df-252d78c5-3197-4a06-9547-1d18b2d84e46')\"\n",
              "              title=\"Convert this dataframe to an interactive table.\"\n",
              "              style=\"display:none;\">\n",
              "        \n",
              "  <svg xmlns=\"http://www.w3.org/2000/svg\" height=\"24px\"viewBox=\"0 0 24 24\"\n",
              "       width=\"24px\">\n",
              "    <path d=\"M0 0h24v24H0V0z\" fill=\"none\"/>\n",
              "    <path d=\"M18.56 5.44l.94 2.06.94-2.06 2.06-.94-2.06-.94-.94-2.06-.94 2.06-2.06.94zm-11 1L8.5 8.5l.94-2.06 2.06-.94-2.06-.94L8.5 2.5l-.94 2.06-2.06.94zm10 10l.94 2.06.94-2.06 2.06-.94-2.06-.94-.94-2.06-.94 2.06-2.06.94z\"/><path d=\"M17.41 7.96l-1.37-1.37c-.4-.4-.92-.59-1.43-.59-.52 0-1.04.2-1.43.59L10.3 9.45l-7.72 7.72c-.78.78-.78 2.05 0 2.83L4 21.41c.39.39.9.59 1.41.59.51 0 1.02-.2 1.41-.59l7.78-7.78 2.81-2.81c.8-.78.8-2.07 0-2.86zM5.41 20L4 18.59l7.72-7.72 1.47 1.35L5.41 20z\"/>\n",
              "  </svg>\n",
              "      </button>\n",
              "      \n",
              "  <style>\n",
              "    .colab-df-container {\n",
              "      display:flex;\n",
              "      flex-wrap:wrap;\n",
              "      gap: 12px;\n",
              "    }\n",
              "\n",
              "    .colab-df-convert {\n",
              "      background-color: #E8F0FE;\n",
              "      border: none;\n",
              "      border-radius: 50%;\n",
              "      cursor: pointer;\n",
              "      display: none;\n",
              "      fill: #1967D2;\n",
              "      height: 32px;\n",
              "      padding: 0 0 0 0;\n",
              "      width: 32px;\n",
              "    }\n",
              "\n",
              "    .colab-df-convert:hover {\n",
              "      background-color: #E2EBFA;\n",
              "      box-shadow: 0px 1px 2px rgba(60, 64, 67, 0.3), 0px 1px 3px 1px rgba(60, 64, 67, 0.15);\n",
              "      fill: #174EA6;\n",
              "    }\n",
              "\n",
              "    [theme=dark] .colab-df-convert {\n",
              "      background-color: #3B4455;\n",
              "      fill: #D2E3FC;\n",
              "    }\n",
              "\n",
              "    [theme=dark] .colab-df-convert:hover {\n",
              "      background-color: #434B5C;\n",
              "      box-shadow: 0px 1px 3px 1px rgba(0, 0, 0, 0.15);\n",
              "      filter: drop-shadow(0px 1px 2px rgba(0, 0, 0, 0.3));\n",
              "      fill: #FFFFFF;\n",
              "    }\n",
              "  </style>\n",
              "\n",
              "      <script>\n",
              "        const buttonEl =\n",
              "          document.querySelector('#df-252d78c5-3197-4a06-9547-1d18b2d84e46 button.colab-df-convert');\n",
              "        buttonEl.style.display =\n",
              "          google.colab.kernel.accessAllowed ? 'block' : 'none';\n",
              "\n",
              "        async function convertToInteractive(key) {\n",
              "          const element = document.querySelector('#df-252d78c5-3197-4a06-9547-1d18b2d84e46');\n",
              "          const dataTable =\n",
              "            await google.colab.kernel.invokeFunction('convertToInteractive',\n",
              "                                                     [key], {});\n",
              "          if (!dataTable) return;\n",
              "\n",
              "          const docLinkHtml = 'Like what you see? Visit the ' +\n",
              "            '<a target=\"_blank\" href=https://colab.research.google.com/notebooks/data_table.ipynb>data table notebook</a>'\n",
              "            + ' to learn more about interactive tables.';\n",
              "          element.innerHTML = '';\n",
              "          dataTable['output_type'] = 'display_data';\n",
              "          await google.colab.output.renderOutput(dataTable, element);\n",
              "          const docLink = document.createElement('div');\n",
              "          docLink.innerHTML = docLinkHtml;\n",
              "          element.appendChild(docLink);\n",
              "        }\n",
              "      </script>\n",
              "    </div>\n",
              "  </div>\n",
              "  "
            ]
          },
          "metadata": {},
          "execution_count": 11
        }
      ],
      "source": [
        "df1= df.copy()\n",
        "df1['cleaned_Text']= \"\"\n",
        "df1"
      ]
    },
    {
      "cell_type": "code",
      "execution_count": 12,
      "metadata": {
        "id": "0nK2j5o_tNVv"
      },
      "outputs": [],
      "source": [
        "import re\n",
        "def clean_function(Text):\n",
        "    # removing the symbols and numbers\n",
        "    Text = re.sub(r'[\\([{})\\]!@#$,\"%^*?:;~`0-9]', ' ', Text)\n",
        "    \n",
        "    # converting the text to lower case\n",
        "    Text = Text.lower()\n",
        "    Text = re.sub('http\\S+\\s*', ' ', Text)  # remove URLs\n",
        "    Text = re.sub('RT|cc', ' ', Text)  # remove RT and cc\n",
        "    Text = re.sub('#\\S+', '', Text)  # remove hashtags\n",
        "    Text = re.sub('@\\S+', '  ', Text)  # remove mentions\n",
        "    Text = re.sub('\\s+', ' ', Text)  # remove extra whitespace\n",
        "    \n",
        "    return Text"
      ]
    },
    {
      "cell_type": "code",
      "execution_count": 13,
      "metadata": {
        "colab": {
          "base_uri": "https://localhost:8080/",
          "height": 424
        },
        "id": "AFpR9qEAtRZw",
        "outputId": "32aafcb1-ee18-4081-c962-2cc529c47efa"
      },
      "outputs": [
        {
          "output_type": "execute_result",
          "data": {
            "text/plain": [
              "                                                    Text Language  \\\n",
              "0       Nature, in the broadest sense, is the natural...  English   \n",
              "1      \"Nature\" can refer to the phenomena of the phy...  English   \n",
              "2      The study of nature is a large, if not the onl...  English   \n",
              "3      Although humans are part of nature, human acti...  English   \n",
              "4      [1] The word nature is borrowed from the Old F...  English   \n",
              "...                                                  ...      ...   \n",
              "10332  ನಿಮ್ಮ ತಪ್ಪು ಏನು ಬಂದಿದೆಯೆಂದರೆ ಆ ದಿನದಿಂದ ನಿಮಗೆ ಒ...  Kannada   \n",
              "10333  ನಾರ್ಸಿಸಾ ತಾನು ಮೊದಲಿಗೆ ಹೆಣಗಾಡುತ್ತಿದ್ದ ಮಾರ್ಗಗಳನ್...  Kannada   \n",
              "10334  ಹೇಗೆ ' ನಾರ್ಸಿಸಿಸಮ್ ಈಗ ಮರಿಯನ್ ಅವರಿಗೆ ಸಂಭವಿಸಿದ ಎ...  Kannada   \n",
              "10335  ಅವಳು ಈಗ ಹೆಚ್ಚು ಚಿನ್ನದ ಬ್ರೆಡ್ ಬಯಸುವುದಿಲ್ಲ ಎಂದು ...  Kannada   \n",
              "10336  ಟೆರ್ರಿ ನೀವು ನಿಜವಾಗಿಯೂ ಆ ದೇವದೂತನಂತೆ ಸ್ವಲ್ಪ ಕಾಣು...  Kannada   \n",
              "\n",
              "                                            cleaned_Text  \n",
              "0       nature in the broadest sense is the natural p...  \n",
              "1       nature can refer to the phenomena of the phys...  \n",
              "2      the study of nature is a large if not the only...  \n",
              "3      although humans are part of nature human activ...  \n",
              "4       the word nature is borrowed from the old fren...  \n",
              "...                                                  ...  \n",
              "10332  ನಿಮ್ಮ ತಪ್ಪು ಏನು ಬಂದಿದೆಯೆಂದರೆ ಆ ದಿನದಿಂದ ನಿಮಗೆ ಒ...  \n",
              "10333  ನಾರ್ಸಿಸಾ ತಾನು ಮೊದಲಿಗೆ ಹೆಣಗಾಡುತ್ತಿದ್ದ ಮಾರ್ಗಗಳನ್...  \n",
              "10334  ಹೇಗೆ ' ನಾರ್ಸಿಸಿಸಮ್ ಈಗ ಮರಿಯನ್ ಅವರಿಗೆ ಸಂಭವಿಸಿದ ಎ...  \n",
              "10335  ಅವಳು ಈಗ ಹೆಚ್ಚು ಚಿನ್ನದ ಬ್ರೆಡ್ ಬಯಸುವುದಿಲ್ಲ ಎಂದು ...  \n",
              "10336  ಟೆರ್ರಿ ನೀವು ನಿಜವಾಗಿಯೂ ಆ ದೇವದೂತನಂತೆ ಸ್ವಲ್ಪ ಕಾಣು...  \n",
              "\n",
              "[10271 rows x 3 columns]"
            ],
            "text/html": [
              "\n",
              "  <div id=\"df-1c8172fc-3d09-4f93-901a-c74dd60274c1\">\n",
              "    <div class=\"colab-df-container\">\n",
              "      <div>\n",
              "<style scoped>\n",
              "    .dataframe tbody tr th:only-of-type {\n",
              "        vertical-align: middle;\n",
              "    }\n",
              "\n",
              "    .dataframe tbody tr th {\n",
              "        vertical-align: top;\n",
              "    }\n",
              "\n",
              "    .dataframe thead th {\n",
              "        text-align: right;\n",
              "    }\n",
              "</style>\n",
              "<table border=\"1\" class=\"dataframe\">\n",
              "  <thead>\n",
              "    <tr style=\"text-align: right;\">\n",
              "      <th></th>\n",
              "      <th>Text</th>\n",
              "      <th>Language</th>\n",
              "      <th>cleaned_Text</th>\n",
              "    </tr>\n",
              "  </thead>\n",
              "  <tbody>\n",
              "    <tr>\n",
              "      <th>0</th>\n",
              "      <td>Nature, in the broadest sense, is the natural...</td>\n",
              "      <td>English</td>\n",
              "      <td>nature in the broadest sense is the natural p...</td>\n",
              "    </tr>\n",
              "    <tr>\n",
              "      <th>1</th>\n",
              "      <td>\"Nature\" can refer to the phenomena of the phy...</td>\n",
              "      <td>English</td>\n",
              "      <td>nature can refer to the phenomena of the phys...</td>\n",
              "    </tr>\n",
              "    <tr>\n",
              "      <th>2</th>\n",
              "      <td>The study of nature is a large, if not the onl...</td>\n",
              "      <td>English</td>\n",
              "      <td>the study of nature is a large if not the only...</td>\n",
              "    </tr>\n",
              "    <tr>\n",
              "      <th>3</th>\n",
              "      <td>Although humans are part of nature, human acti...</td>\n",
              "      <td>English</td>\n",
              "      <td>although humans are part of nature human activ...</td>\n",
              "    </tr>\n",
              "    <tr>\n",
              "      <th>4</th>\n",
              "      <td>[1] The word nature is borrowed from the Old F...</td>\n",
              "      <td>English</td>\n",
              "      <td>the word nature is borrowed from the old fren...</td>\n",
              "    </tr>\n",
              "    <tr>\n",
              "      <th>...</th>\n",
              "      <td>...</td>\n",
              "      <td>...</td>\n",
              "      <td>...</td>\n",
              "    </tr>\n",
              "    <tr>\n",
              "      <th>10332</th>\n",
              "      <td>ನಿಮ್ಮ ತಪ್ಪು ಏನು ಬಂದಿದೆಯೆಂದರೆ ಆ ದಿನದಿಂದ ನಿಮಗೆ ಒ...</td>\n",
              "      <td>Kannada</td>\n",
              "      <td>ನಿಮ್ಮ ತಪ್ಪು ಏನು ಬಂದಿದೆಯೆಂದರೆ ಆ ದಿನದಿಂದ ನಿಮಗೆ ಒ...</td>\n",
              "    </tr>\n",
              "    <tr>\n",
              "      <th>10333</th>\n",
              "      <td>ನಾರ್ಸಿಸಾ ತಾನು ಮೊದಲಿಗೆ ಹೆಣಗಾಡುತ್ತಿದ್ದ ಮಾರ್ಗಗಳನ್...</td>\n",
              "      <td>Kannada</td>\n",
              "      <td>ನಾರ್ಸಿಸಾ ತಾನು ಮೊದಲಿಗೆ ಹೆಣಗಾಡುತ್ತಿದ್ದ ಮಾರ್ಗಗಳನ್...</td>\n",
              "    </tr>\n",
              "    <tr>\n",
              "      <th>10334</th>\n",
              "      <td>ಹೇಗೆ ' ನಾರ್ಸಿಸಿಸಮ್ ಈಗ ಮರಿಯನ್ ಅವರಿಗೆ ಸಂಭವಿಸಿದ ಎ...</td>\n",
              "      <td>Kannada</td>\n",
              "      <td>ಹೇಗೆ ' ನಾರ್ಸಿಸಿಸಮ್ ಈಗ ಮರಿಯನ್ ಅವರಿಗೆ ಸಂಭವಿಸಿದ ಎ...</td>\n",
              "    </tr>\n",
              "    <tr>\n",
              "      <th>10335</th>\n",
              "      <td>ಅವಳು ಈಗ ಹೆಚ್ಚು ಚಿನ್ನದ ಬ್ರೆಡ್ ಬಯಸುವುದಿಲ್ಲ ಎಂದು ...</td>\n",
              "      <td>Kannada</td>\n",
              "      <td>ಅವಳು ಈಗ ಹೆಚ್ಚು ಚಿನ್ನದ ಬ್ರೆಡ್ ಬಯಸುವುದಿಲ್ಲ ಎಂದು ...</td>\n",
              "    </tr>\n",
              "    <tr>\n",
              "      <th>10336</th>\n",
              "      <td>ಟೆರ್ರಿ ನೀವು ನಿಜವಾಗಿಯೂ ಆ ದೇವದೂತನಂತೆ ಸ್ವಲ್ಪ ಕಾಣು...</td>\n",
              "      <td>Kannada</td>\n",
              "      <td>ಟೆರ್ರಿ ನೀವು ನಿಜವಾಗಿಯೂ ಆ ದೇವದೂತನಂತೆ ಸ್ವಲ್ಪ ಕಾಣು...</td>\n",
              "    </tr>\n",
              "  </tbody>\n",
              "</table>\n",
              "<p>10271 rows × 3 columns</p>\n",
              "</div>\n",
              "      <button class=\"colab-df-convert\" onclick=\"convertToInteractive('df-1c8172fc-3d09-4f93-901a-c74dd60274c1')\"\n",
              "              title=\"Convert this dataframe to an interactive table.\"\n",
              "              style=\"display:none;\">\n",
              "        \n",
              "  <svg xmlns=\"http://www.w3.org/2000/svg\" height=\"24px\"viewBox=\"0 0 24 24\"\n",
              "       width=\"24px\">\n",
              "    <path d=\"M0 0h24v24H0V0z\" fill=\"none\"/>\n",
              "    <path d=\"M18.56 5.44l.94 2.06.94-2.06 2.06-.94-2.06-.94-.94-2.06-.94 2.06-2.06.94zm-11 1L8.5 8.5l.94-2.06 2.06-.94-2.06-.94L8.5 2.5l-.94 2.06-2.06.94zm10 10l.94 2.06.94-2.06 2.06-.94-2.06-.94-.94-2.06-.94 2.06-2.06.94z\"/><path d=\"M17.41 7.96l-1.37-1.37c-.4-.4-.92-.59-1.43-.59-.52 0-1.04.2-1.43.59L10.3 9.45l-7.72 7.72c-.78.78-.78 2.05 0 2.83L4 21.41c.39.39.9.59 1.41.59.51 0 1.02-.2 1.41-.59l7.78-7.78 2.81-2.81c.8-.78.8-2.07 0-2.86zM5.41 20L4 18.59l7.72-7.72 1.47 1.35L5.41 20z\"/>\n",
              "  </svg>\n",
              "      </button>\n",
              "      \n",
              "  <style>\n",
              "    .colab-df-container {\n",
              "      display:flex;\n",
              "      flex-wrap:wrap;\n",
              "      gap: 12px;\n",
              "    }\n",
              "\n",
              "    .colab-df-convert {\n",
              "      background-color: #E8F0FE;\n",
              "      border: none;\n",
              "      border-radius: 50%;\n",
              "      cursor: pointer;\n",
              "      display: none;\n",
              "      fill: #1967D2;\n",
              "      height: 32px;\n",
              "      padding: 0 0 0 0;\n",
              "      width: 32px;\n",
              "    }\n",
              "\n",
              "    .colab-df-convert:hover {\n",
              "      background-color: #E2EBFA;\n",
              "      box-shadow: 0px 1px 2px rgba(60, 64, 67, 0.3), 0px 1px 3px 1px rgba(60, 64, 67, 0.15);\n",
              "      fill: #174EA6;\n",
              "    }\n",
              "\n",
              "    [theme=dark] .colab-df-convert {\n",
              "      background-color: #3B4455;\n",
              "      fill: #D2E3FC;\n",
              "    }\n",
              "\n",
              "    [theme=dark] .colab-df-convert:hover {\n",
              "      background-color: #434B5C;\n",
              "      box-shadow: 0px 1px 3px 1px rgba(0, 0, 0, 0.15);\n",
              "      filter: drop-shadow(0px 1px 2px rgba(0, 0, 0, 0.3));\n",
              "      fill: #FFFFFF;\n",
              "    }\n",
              "  </style>\n",
              "\n",
              "      <script>\n",
              "        const buttonEl =\n",
              "          document.querySelector('#df-1c8172fc-3d09-4f93-901a-c74dd60274c1 button.colab-df-convert');\n",
              "        buttonEl.style.display =\n",
              "          google.colab.kernel.accessAllowed ? 'block' : 'none';\n",
              "\n",
              "        async function convertToInteractive(key) {\n",
              "          const element = document.querySelector('#df-1c8172fc-3d09-4f93-901a-c74dd60274c1');\n",
              "          const dataTable =\n",
              "            await google.colab.kernel.invokeFunction('convertToInteractive',\n",
              "                                                     [key], {});\n",
              "          if (!dataTable) return;\n",
              "\n",
              "          const docLinkHtml = 'Like what you see? Visit the ' +\n",
              "            '<a target=\"_blank\" href=https://colab.research.google.com/notebooks/data_table.ipynb>data table notebook</a>'\n",
              "            + ' to learn more about interactive tables.';\n",
              "          element.innerHTML = '';\n",
              "          dataTable['output_type'] = 'display_data';\n",
              "          await google.colab.output.renderOutput(dataTable, element);\n",
              "          const docLink = document.createElement('div');\n",
              "          docLink.innerHTML = docLinkHtml;\n",
              "          element.appendChild(docLink);\n",
              "        }\n",
              "      </script>\n",
              "    </div>\n",
              "  </div>\n",
              "  "
            ]
          },
          "metadata": {},
          "execution_count": 13
        }
      ],
      "source": [
        "df1['cleaned_Text'] = df1['Text'].apply(lambda x: clean_function(x))\n",
        "df1"
      ]
    },
    {
      "cell_type": "code",
      "execution_count": 14,
      "metadata": {
        "id": "OtWfY6Zbth0F"
      },
      "outputs": [],
      "source": [
        "X= df1[\"cleaned_Text\"]\n",
        "y= df1[\"Language\"]"
      ]
    },
    {
      "cell_type": "code",
      "execution_count": 15,
      "metadata": {
        "id": "YqKP2SWKtm0P",
        "colab": {
          "base_uri": "https://localhost:8080/"
        },
        "outputId": "f1739f01-89b0-4e39-91cb-4c1b83dfc727"
      },
      "outputs": [
        {
          "output_type": "execute_result",
          "data": {
            "text/plain": [
              "(10271,)"
            ]
          },
          "metadata": {},
          "execution_count": 15
        }
      ],
      "source": [
        "from sklearn.preprocessing import LabelEncoder\n",
        "encoder= LabelEncoder()\n",
        "y= encoder.fit_transform(y)\n",
        "y.shape"
      ]
    },
    {
      "cell_type": "code",
      "execution_count": 16,
      "metadata": {
        "colab": {
          "base_uri": "https://localhost:8080/"
        },
        "id": "8lXq6XQWtpxo",
        "outputId": "09398ade-0015-410d-ff1d-02d09b94cf22"
      },
      "outputs": [
        {
          "output_type": "execute_result",
          "data": {
            "text/plain": [
              "(10271, 39370)"
            ]
          },
          "metadata": {},
          "execution_count": 16
        }
      ],
      "source": [
        "from sklearn.feature_extraction.text import CountVectorizer\n",
        "CV= CountVectorizer()\n",
        "X= CV.fit_transform(X).toarray()\n",
        "X.shape"
      ]
    },
    {
      "cell_type": "code",
      "execution_count": 17,
      "metadata": {
        "id": "eIWrDXC5ts3K"
      },
      "outputs": [],
      "source": [
        "from sklearn.model_selection import train_test_split\n",
        "X_train, X_test, y_train, y_test= train_test_split(X, y, random_state=42)"
      ]
    },
    {
      "cell_type": "code",
      "execution_count": 18,
      "metadata": {
        "id": "UNmcDmxwtwDT"
      },
      "outputs": [],
      "source": [
        "from sklearn.neighbors import KNeighborsClassifier\n",
        "from sklearn.ensemble import RandomForestClassifier\n",
        "from sklearn.naive_bayes import MultinomialNB\n",
        "\n",
        "models = {\n",
        "    'K-Nearest Neighbors' : KNeighborsClassifier(),\n",
        "    'Random Forest' : RandomForestClassifier(),\n",
        "    'MNB' : MultinomialNB()    \n",
        "}"
      ]
    },
    {
      "cell_type": "code",
      "execution_count": 19,
      "metadata": {
        "id": "WXWWXzzBtz10",
        "colab": {
          "base_uri": "https://localhost:8080/"
        },
        "outputId": "a3ac1f3d-833f-4c0a-966e-d932bed1c4e9"
      },
      "outputs": [
        {
          "output_type": "stream",
          "name": "stdout",
          "text": [
            "K-Nearest Neighbors training started...\n",
            "K-Nearest Neighbors trained\n",
            "Random Forest training started...\n",
            "Random Forest trained\n",
            "MNB training started...\n",
            "MNB trained\n",
            "CPU times: user 4min 8s, sys: 602 ms, total: 4min 9s\n",
            "Wall time: 4min 15s\n"
          ]
        }
      ],
      "source": [
        "%%time\n",
        "for name, model in models.items():\n",
        "    print(f'{name} training started...')\n",
        "    model.fit(X_train, y_train)\n",
        "    print(f'{name} trained')"
      ]
    },
    {
      "cell_type": "code",
      "source": [
        "y_pred = model.predict(X_test)"
      ],
      "metadata": {
        "id": "p1fViv7AJi5e"
      },
      "execution_count": 20,
      "outputs": []
    },
    {
      "cell_type": "code",
      "source": [
        "y_pred"
      ],
      "metadata": {
        "colab": {
          "base_uri": "https://localhost:8080/"
        },
        "id": "s4fRRrbuK8yH",
        "outputId": "276fb02f-d530-4c1b-a228-fc43de6dab9c"
      },
      "execution_count": 21,
      "outputs": [
        {
          "output_type": "execute_result",
          "data": {
            "text/plain": [
              "array([16, 16,  4, ...,  3, 14,  2])"
            ]
          },
          "metadata": {},
          "execution_count": 21
        }
      ]
    },
    {
      "cell_type": "code",
      "execution_count": 22,
      "metadata": {
        "id": "d3J1Vd75t28s"
      },
      "outputs": [],
      "source": [
        "from sklearn.metrics import accuracy_score \n",
        "from sklearn.metrics import confusion_matrix as CM\n",
        "from sklearn.metrics import classification_report"
      ]
    },
    {
      "cell_type": "code",
      "execution_count": 23,
      "metadata": {
        "id": "Upw_0bZSt7iN",
        "colab": {
          "base_uri": "https://localhost:8080/"
        },
        "outputId": "9981cba1-7818-41fc-ee2f-7d2665df31f6"
      },
      "outputs": [
        {
          "output_type": "stream",
          "name": "stdout",
          "text": [
            "K-Nearest Neighbors accuracy score :  0.524\n",
            "Random Forest accuracy score :  0.924\n",
            "MNB accuracy score :  0.981\n",
            "CPU times: user 1min 34s, sys: 1.59 s, total: 1min 36s\n",
            "Wall time: 51.2 s\n"
          ]
        }
      ],
      "source": [
        "%%time\n",
        "for name in models:\n",
        "    acc_score= round(accuracy_score(y_test, models.get(name).predict(X_test)), 3)\n",
        "    print(f'{name} accuracy score :  {acc_score}')"
      ]
    },
    {
      "cell_type": "code",
      "execution_count": 24,
      "metadata": {
        "id": "roHjkZRTt-D_",
        "colab": {
          "base_uri": "https://localhost:8080/"
        },
        "outputId": "dc42d9a6-d0cf-4b39-cbba-f86bf49bfbf0"
      },
      "outputs": [
        {
          "output_type": "stream",
          "name": "stdout",
          "text": [
            "K-Nearest Neighbors classification report\n",
            "-------------------------------\n",
            "              precision    recall  f1-score   support\n",
            "\n",
            "           0       0.58      0.35      0.44       146\n",
            "           1       0.76      0.55      0.64       103\n",
            "           2       0.87      0.46      0.60       133\n",
            "           3       0.97      0.59      0.74       361\n",
            "           4       0.89      0.56      0.69       255\n",
            "           5       0.84      0.46      0.59       114\n",
            "           6       1.00      0.48      0.65        79\n",
            "           7       1.00      0.33      0.50        12\n",
            "           8       0.97      0.45      0.61       159\n",
            "           9       0.08      0.97      0.16        86\n",
            "          10       0.81      0.72      0.76       161\n",
            "          11       0.90      0.48      0.63       178\n",
            "          12       0.79      0.29      0.43       150\n",
            "          13       0.79      0.55      0.65       205\n",
            "          14       0.99      0.49      0.66       182\n",
            "          15       0.41      0.86      0.55       111\n",
            "          16       1.00      0.20      0.34       133\n",
            "\n",
            "    accuracy                           0.52      2568\n",
            "   macro avg       0.80      0.52      0.57      2568\n",
            "weighted avg       0.83      0.52      0.60      2568\n",
            "\n",
            "******************************\n",
            " \n",
            "Random Forest classification report\n",
            "-------------------------------\n",
            "              precision    recall  f1-score   support\n",
            "\n",
            "           0       1.00      0.90      0.95       146\n",
            "           1       0.97      0.90      0.93       103\n",
            "           2       0.98      0.89      0.93       133\n",
            "           3       0.98      0.98      0.98       361\n",
            "           4       0.99      0.91      0.95       255\n",
            "           5       0.99      0.90      0.94       114\n",
            "           6       1.00      0.90      0.95        79\n",
            "           7       1.00      0.92      0.96        12\n",
            "           8       0.97      0.90      0.93       159\n",
            "           9       0.38      1.00      0.55        86\n",
            "          10       1.00      0.93      0.96       161\n",
            "          11       0.97      0.93      0.95       178\n",
            "          12       1.00      0.93      0.96       150\n",
            "          13       0.91      0.95      0.93       205\n",
            "          14       0.97      0.94      0.95       182\n",
            "          15       1.00      0.95      0.98       111\n",
            "          16       0.99      0.80      0.88       133\n",
            "\n",
            "    accuracy                           0.92      2568\n",
            "   macro avg       0.95      0.92      0.92      2568\n",
            "weighted avg       0.96      0.92      0.93      2568\n",
            "\n",
            "******************************\n",
            " \n",
            "MNB classification report\n",
            "-------------------------------\n",
            "              precision    recall  f1-score   support\n",
            "\n",
            "           0       1.00      0.99      0.99       146\n",
            "           1       0.99      0.95      0.97       103\n",
            "           2       1.00      0.96      0.98       133\n",
            "           3       0.90      1.00      0.95       361\n",
            "           4       1.00      0.98      0.99       255\n",
            "           5       1.00      0.99      1.00       114\n",
            "           6       1.00      0.99      0.99        79\n",
            "           7       1.00      0.92      0.96        12\n",
            "           8       1.00      0.97      0.99       159\n",
            "           9       1.00      0.99      0.99        86\n",
            "          10       0.99      0.99      0.99       161\n",
            "          11       0.99      0.98      0.98       178\n",
            "          12       0.99      0.99      0.99       150\n",
            "          13       0.99      0.98      0.99       205\n",
            "          14       0.99      0.98      0.99       182\n",
            "          15       1.00      0.98      0.99       111\n",
            "          16       1.00      0.92      0.96       133\n",
            "\n",
            "    accuracy                           0.98      2568\n",
            "   macro avg       0.99      0.97      0.98      2568\n",
            "weighted avg       0.98      0.98      0.98      2568\n",
            "\n",
            "******************************\n",
            " \n"
          ]
        }
      ],
      "source": [
        "for name in models:\n",
        "    print(f'{name} classification report')\n",
        "    print(\"-------------------------------\")\n",
        "    print(classification_report(y_test, models.get(name).predict(X_test)))\n",
        "    print(\"******************************\")\n",
        "    print(\" \")"
      ]
    },
    {
      "cell_type": "code",
      "execution_count": 25,
      "metadata": {
        "id": "Q21MFhbduBuV",
        "colab": {
          "base_uri": "https://localhost:8080/",
          "height": 1000
        },
        "outputId": "0e42b45e-1131-4048-b666-7a9f445059c8"
      },
      "outputs": [
        {
          "output_type": "stream",
          "name": "stdout",
          "text": [
            "K-Nearest Neighbors ConfusionMatrix\n"
          ]
        },
        {
          "output_type": "display_data",
          "data": {
            "text/plain": [
              "<Figure size 432x288 with 2 Axes>"
            ],
            "image/png": "[encoded data removed]"
          },
          "metadata": {
            "needs_background": "light"
          }
        },
        {
          "output_type": "stream",
          "name": "stdout",
          "text": [
            "******************************\n",
            " \n",
            "Random Forest ConfusionMatrix\n"
          ]
        },
        {
          "output_type": "display_data",
          "data": {
            "text/plain": [
              "<Figure size 432x288 with 2 Axes>"
            ],
            "image/png": "[encoded data removed]"
          },
          "metadata": {
            "needs_background": "light"
          }
        },
        {
          "output_type": "stream",
          "name": "stdout",
          "text": [
            "******************************\n",
            " \n",
            "MNB ConfusionMatrix\n"
          ]
        },
        {
          "output_type": "display_data",
          "data": {
            "text/plain": [
              "<Figure size 432x288 with 2 Axes>"
            ],
            "image/png": "[encoded data removed]"
          },
          "metadata": {
            "needs_background": "light"
          }
        },
        {
          "output_type": "stream",
          "name": "stdout",
          "text": [
            "******************************\n",
            " \n"
          ]
        }
      ],
      "source": [
        "for name in models:\n",
        "    print(f'{name} ConfusionMatrix')\n",
        "    predictions= models.get(name).predict(X_test)\n",
        "    score = round(accuracy_score(y_test, models.get(name).predict(X_test)), 3)\n",
        "    confusionMatrix = CM(y_test, models.get(name).predict(X_test))\n",
        "    sns.heatmap(confusionMatrix, annot=True, fmt=\".0f\")\n",
        "    plt.xlabel('Actual Values')\n",
        "    plt.ylabel('Prediction Values')\n",
        "    plt.title('Accuracy Score: {0}'.format(score), size = 15)\n",
        "    plt.show()\n",
        "    print(\"******************************\")\n",
        "    print(\" \")"
      ]
    },
    {
      "cell_type": "code",
      "execution_count": 26,
      "metadata": {
        "id": "L_mvbAgNuGOh"
      },
      "outputs": [],
      "source": [
        "def prediction(text):\n",
        "    x= CV.transform([text]).toarray()\n",
        "    lang= model.predict(x)\n",
        "    lang= encoder.inverse_transform(lang)\n",
        "    print(\"This word/sentence contains {} word(s).\".format(lang[0]))"
      ]
    },
    {
      "cell_type": "code",
      "execution_count": 27,
      "metadata": {
        "id": "WUPQvbQguMGD",
        "colab": {
          "base_uri": "https://localhost:8080/"
        },
        "outputId": "4b9dc170-2afa-4b73-e60b-9053a9bbcaad"
      },
      "outputs": [
        {
          "output_type": "stream",
          "name": "stdout",
          "text": [
            "This word/sentence contains Russian word(s).\n"
          ]
        }
      ],
      "source": [
        "prediction(\"до свидания \")"
      ]
    },
    {
      "cell_type": "code",
      "source": [
        "prediction(\"Η μνήμη σας βελτιώνεται καθώς μαθαίνετε μια γλώσσα. \")"
      ],
      "metadata": {
        "colab": {
          "base_uri": "https://localhost:8080/"
        },
        "id": "MnwxDA7i1lS5",
        "outputId": "72047814-b12b-451e-8bbb-18fbc8720629"
      },
      "execution_count": 28,
      "outputs": [
        {
          "output_type": "stream",
          "name": "stdout",
          "text": [
            "This word/sentence contains Greek word(s).\n"
          ]
        }
      ]
    },
    {
      "cell_type": "code",
      "source": [
        "prediction(\"ನಿಮ್ಮ ಮೆದುಳು ಸ್ವಯಂಚಾಲಿತವಾಗಿ ಅನುವಾದಿಸುವುದರಿಂದ \")"
      ],
      "metadata": {
        "colab": {
          "base_uri": "https://localhost:8080/"
        },
        "id": "XolcECqx17lJ",
        "outputId": "d576c45d-cef8-48bc-a547-739bb697c5f6"
      },
      "execution_count": 29,
      "outputs": [
        {
          "output_type": "stream",
          "name": "stdout",
          "text": [
            "This word/sentence contains Kannada word(s).\n"
          ]
        }
      ]
    },
    {
      "cell_type": "code",
      "source": [
        "#Predict and Summarize the Text"
      ],
      "metadata": {
        "id": "9nVUk12p5Si6"
      },
      "execution_count": 30,
      "outputs": []
    },
    {
      "cell_type": "code",
      "source": [
        "# This is the inital text of the full text\n",
        "prediction(\"Appellant, Kawas Manekshaw Nanavati , a commander in the Indian Navy was charged for murder of deceased Prem Ahuja under section 302 and 304, part 1 of IPC. When the appellant was away for his work, his wife, Sylvia, nurtured an illicit relationship with Mr. Ahuja, a friend of Nanavati. On 27th April 1959 , Nanavati returned from one of his long voyages. \")\n"
      ],
      "metadata": {
        "id": "c1AuEhQyLeuD",
        "colab": {
          "base_uri": "https://localhost:8080/"
        },
        "outputId": "c041e92c-5376-422d-edf7-002b3e780784"
      },
      "execution_count": 31,
      "outputs": [
        {
          "output_type": "stream",
          "name": "stdout",
          "text": [
            "This word/sentence contains English word(s).\n"
          ]
        }
      ]
    },
    {
      "cell_type": "code",
      "execution_count": 32,
      "metadata": {
        "id": "mOfQsW0_ua8d",
        "colab": {
          "base_uri": "https://localhost:8080/"
        },
        "outputId": "b2eecc86-a094-4a73-9c27-800bbb263ce7"
      },
      "outputs": [
        {
          "output_type": "stream",
          "name": "stdout",
          "text": [
            "\u001b[31mERROR: Could not find a version that satisfies the requirement transformer==2.2.2 (from versions: none)\u001b[0m\n",
            "\u001b[31mERROR: No matching distribution found for transformer==2.2.2\u001b[0m\n"
          ]
        }
      ],
      "source": [
        "!pip install -q bert-extractive-summarizer\n",
        "!pip install -q spacy==2.1.3\n",
        "!pip install -q transformer==2.2.2\n",
        "!pip install -q neuralcoref"
      ]
    },
    {
      "cell_type": "code",
      "execution_count": 33,
      "metadata": {
        "id": "-UcyaHrLnpEa"
      },
      "outputs": [],
      "source": [
        "from summarizer import Summarizer\n",
        "from pprint import pprint"
      ]
    },
    {
      "cell_type": "code",
      "execution_count": 34,
      "metadata": {
        "id": "LIq_dZ9Cn57P"
      },
      "outputs": [],
      "source": [
        "#bert exctractive summarizer\n",
        "text=\"\"\"Appellant, Kawas Manekshaw Nanavati , a commander in the Indian Navy was charged for murder of deceased Prem Ahuja under section 302 and 304, part 1 of IPC. When the appellant was away for his work, his wife, Sylvia, nurtured an illicit relationship with Mr. Ahuja, a friend of Nanavati.\n",
        "On 27th April 1959 , Nanavati returned from one of his long voyages. When he came home, his wife seemed to be behaving strangely and was not responsive or affectionate to him. Sensing something, he asked, to which Sylvia confessed about her affair with Ahuja. That evening, Nanavati dropped Sylvia (wife) and their two children at a cinema hall and went to confront Ahuja. He first went to his ship, collected his pistol on a false pretext from the stores along with six bullets, completed his official duties and continued for Prem Ahuja's office. On not finding him there, he made his way to Ahuja's home where he found Ahuja. There was a verbal confrontation between the two men. After the confrontation, there was an altercation after which three shots were fired and Prem Ahuja dropped dead. Nanavati headed straight to confess to the Provost Marshal of the Western Naval Command and later turned himself over to the Deputy Commissioner of Police.\n",
        "The jury found him not guilty of murder which did not find favour with the Sessions Judge and he referred the case to Bombay High Court. The Bombay High Court dismissed the Jury's decision and convicted Nanavati under section 302 and 304 Part 1 of IPC.\n",
        "Nanavati filed an appeal before the Supreme Court.\n",
        "The issue of the case was whether Nanavati shot Ahuja in the \"heat of the moment\" or whether it was a premeditated murder which will determine the conviction of Nanavati.\n",
        "The first contention that was raised was that Ahuja had just come out of the shower wearing towel. When his body was discovered, his towel was still intact on his body. It had neither loosened nor fallen off which was highly improbable in case of a scuffle. Moreover, after Sylvia's confession, a calm and collected Nanavati took them to a movie hall, dropped them there and then went to his shop to retrieve his pistol, that too under a false pretext. This shows he had enough cooling time and provocation was neither grave nor sudden and that Nanavati had planned the murder. Moreover, according to the testimony of Ahuja's servant, Anjani, who was present at the house during the occurrence of the incident and so, was a natural witness, testified that there were four shots consecutively in quick succession and the entire event occurred in less than a minute thereby ruling out scuffle. Nanavati walked out of Ahuja's residence, without explaining to his sister Mamie, who was present in another room of the flat that it was an accident. The deputy commissioner of police testified that Nanavati confessed that he had shot dead Ahuja and even corrected the misspelling of his name in the police record thereby showing Nanavati was not dazed.\n",
        "The Supreme Court upheld that this was a clear case of premeditated murder and concurred with the decision of the High Court and sentenced him to life imprisonment for culpable homicide amounting to murder.\n",
        "\"\"\""
      ]
    },
    {
      "cell_type": "code",
      "execution_count": 35,
      "metadata": {
        "id": "sAlP4PLVn-G7"
      },
      "outputs": [],
      "source": [
        "data=text.replace(\"\\ufeff\",\"\")"
      ]
    },
    {
      "cell_type": "code",
      "execution_count": 36,
      "metadata": {
        "id": "554Y7LS6oBCv",
        "colab": {
          "base_uri": "https://localhost:8080/",
          "height": 36
        },
        "outputId": "0bc50af9-6ac4-4adb-eca2-f46849308d24"
      },
      "outputs": [
        {
          "output_type": "execute_result",
          "data": {
            "text/plain": [
              "'Appellant, Kawas Manekshaw Nanavati , a commander in the Indian Navy was charged for murder of decea'"
            ],
            "application/vnd.google.colaboratory.intrinsic+json": {
              "type": "string"
            }
          },
          "metadata": {},
          "execution_count": 36
        }
      ],
      "source": [
        "data[0:100]"
      ]
    },
    {
      "cell_type": "code",
      "execution_count": 37,
      "metadata": {
        "id": "2VYWFzcsoDM0",
        "colab": {
          "base_uri": "https://localhost:8080/"
        },
        "outputId": "6d57265b-da4f-4ce6-ab29-dae070220e93"
      },
      "outputs": [
        {
          "output_type": "stream",
          "name": "stderr",
          "text": [
            "Some weights of the model checkpoint at bert-large-uncased were not used when initializing BertModel: ['cls.predictions.transform.dense.weight', 'cls.predictions.transform.LayerNorm.weight', 'cls.predictions.decoder.weight', 'cls.predictions.transform.dense.bias', 'cls.predictions.bias', 'cls.seq_relationship.bias', 'cls.predictions.transform.LayerNorm.bias', 'cls.seq_relationship.weight']\n",
            "- This IS expected if you are initializing BertModel from the checkpoint of a model trained on another task or with another architecture (e.g. initializing a BertForSequenceClassification model from a BertForPreTraining model).\n",
            "- This IS NOT expected if you are initializing BertModel from the checkpoint of a model that you expect to be exactly identical (initializing a BertForSequenceClassification model from a BertForSequenceClassification model).\n"
          ]
        }
      ],
      "source": [
        "model=Summarizer()"
      ]
    },
    {
      "cell_type": "code",
      "execution_count": 38,
      "metadata": {
        "id": "jDx9fqUooI_8"
      },
      "outputs": [],
      "source": [
        "result=model(data,max_length=400,min_length=100)"
      ]
    },
    {
      "cell_type": "code",
      "execution_count": 39,
      "metadata": {
        "id": "80SHNy3WoOJM"
      },
      "outputs": [],
      "source": [
        "full=''.join(result)"
      ]
    },
    {
      "cell_type": "code",
      "execution_count": 40,
      "metadata": {
        "id": "CUdoYcJXoTUg",
        "colab": {
          "base_uri": "https://localhost:8080/"
        },
        "outputId": "e9675493-d7a8-4e2d-de06-1d05a5320009"
      },
      "outputs": [
        {
          "output_type": "stream",
          "name": "stdout",
          "text": [
            "('Appellant, Kawas Manekshaw Nanavati , a commander in the Indian Navy was '\n",
            " 'charged for murder of deceased Prem Ahuja under section 302 and 304, part 1 '\n",
            " 'of IPC. This shows he had enough cooling time and provocation was neither '\n",
            " 'grave nor sudden and that Nanavati had planned the murder. Moreover, '\n",
            " \"according to the testimony of Ahuja's servant, Anjani, who was present at \"\n",
            " 'the house during the occurrence of the incident and so, was a natural '\n",
            " 'witness, testified that there were four shots consecutively in quick '\n",
            " 'succession and the entire event occurred in less than a minute thereby '\n",
            " \"ruling out scuffle. Nanavati walked out of Ahuja's residence, without \"\n",
            " 'explaining to his sister Mamie, who was present in another room of the flat '\n",
            " 'that it was an accident.')\n"
          ]
        }
      ],
      "source": [
        "pprint(full)"
      ]
    },
    {
      "cell_type": "code",
      "source": [
        "#Distilbert version of bert base model\n",
        "model1 = Summarizer('distilbert-base-uncased')"
      ],
      "metadata": {
        "id": "e_D-Mk1XJIMw"
      },
      "execution_count": null,
      "outputs": []
    },
    {
      "cell_type": "code",
      "source": [
        "result1=model1(data,max_length=400,min_length=100)"
      ],
      "metadata": {
        "id": "YFUlS7xHqvtX"
      },
      "execution_count": 44,
      "outputs": []
    },
    {
      "cell_type": "code",
      "source": [
        "full1=''.join(result1)"
      ],
      "metadata": {
        "id": "_zG-6fDJrWty"
      },
      "execution_count": 45,
      "outputs": []
    },
    {
      "cell_type": "code",
      "source": [
        "pprint(full1)"
      ],
      "metadata": {
        "colab": {
          "base_uri": "https://localhost:8080/"
        },
        "id": "BUGWMc5krf0x",
        "outputId": "ee0d84f6-5343-4da9-d462-c5e2f0dc4679"
      },
      "execution_count": 46,
      "outputs": [
        {
          "output_type": "stream",
          "name": "stdout",
          "text": [
            "('Appellant, Kawas Manekshaw Nanavati , a commander in the Indian Navy was '\n",
            " 'charged for murder of deceased Prem Ahuja under section 302 and 304, part 1 '\n",
            " 'of IPC. The jury found him not guilty of murder which did not find favour '\n",
            " 'with the Sessions Judge and he referred the case to Bombay High Court. '\n",
            " \"Moreover, after Sylvia's confession, a calm and collected Nanavati took them \"\n",
            " 'to a movie hall, dropped them there and then went to his shop to retrieve '\n",
            " 'his pistol, that too under a false pretext. Moreover, according to the '\n",
            " \"testimony of Ahuja's servant, Anjani, who was present at the house during \"\n",
            " 'the occurrence of the incident and so, was a natural witness, testified that '\n",
            " 'there were four shots consecutively in quick succession and the entire event '\n",
            " 'occurred in less than a minute thereby ruling out scuffle.')\n"
          ]
        }
      ]
    },
    {
      "cell_type": "code",
      "source": [
        "#hugging face transformer\n",
        "from transformers import pipeline"
      ],
      "metadata": {
        "id": "OcAfCqUEI_pH"
      },
      "execution_count": 47,
      "outputs": []
    },
    {
      "cell_type": "code",
      "source": [
        "summarizer = pipeline(\"summarization\")"
      ],
      "metadata": {
        "id": "dBa135IrJFos"
      },
      "execution_count": null,
      "outputs": []
    },
    {
      "cell_type": "code",
      "source": [
        "summarizer(full, max_length=150, min_length=100, do_sample=False)"
      ],
      "metadata": {
        "id": "8vihI17rJIva",
        "colab": {
          "base_uri": "https://localhost:8080/"
        },
        "outputId": "b3b73063-e5bc-41a4-aec8-e28631415da9"
      },
      "execution_count": 49,
      "outputs": [
        {
          "output_type": "execute_result",
          "data": {
            "text/plain": [
              "[{'summary_text': ' Kawas Manekshaw Nanavati, a commander in the Indian Navy was charged for murder of deceased Prem Ahuja . He was charged under section 302 and 304, part 1 of IPC . This shows he had enough cooling time and provocation was neither grave nor sudden . The entire event occurred in less than a minute thereby ruling out scuffle . The servant who was present at the house during the incident testified that there were four shots consecutively in quick succession and the entire event .'}]"
            ]
          },
          "metadata": {},
          "execution_count": 49
        }
      ]
    },
    {
      "cell_type": "code",
      "execution_count": 50,
      "metadata": {
        "id": "yABKXeYBpF3Y",
        "colab": {
          "base_uri": "https://localhost:8080/"
        },
        "outputId": "f604a302-957e-404d-e251-8673e7f09323"
      },
      "outputs": [
        {
          "output_type": "stream",
          "name": "stdout",
          "text": [
            "Response Time: 14.2130606174469\n",
            "Summary: Appellant, Kawas Manekshaw Nanavati , a commander in the Indian Navy was charged for murder of deceased Prem Ahuja under section 302 and 304, part 1 of IPC. On not finding him there, he made his way to Ahuja's home where he found Ahuja. After the confrontation, there was an altercation after which three shots were fired and Prem Ahuja dropped dead. This shows he had enough cooling time and provocation was neither grave nor sudden and that Nanavati had planned the murder. Moreover, according to the testimony of Ahuja's servant, Anjani, who was present at the house during the occurrence of the incident and so, was a natural witness, testified that there were four shots consecutively in quick succession and the entire event occurred in less than a minute thereby ruling out scuffle.\n"
          ]
        }
      ],
      "source": [
        "import time\n",
        "start = time.time()\n",
        "resp=model(data)\n",
        "end = time.time()\n",
        "\n",
        "print(f'Response Time: {end-start}')\n",
        "print(f'Summary: {resp}')"
      ]
    },
    {
      "cell_type": "code",
      "source": [
        "resp"
      ],
      "metadata": {
        "id": "wwxR4AjbKqeT",
        "colab": {
          "base_uri": "https://localhost:8080/",
          "height": 122
        },
        "outputId": "c9bd0e01-a2e6-4414-8b20-840af6ab3389"
      },
      "execution_count": 54,
      "outputs": [
        {
          "output_type": "execute_result",
          "data": {
            "text/plain": [
              "\"Appellant, Kawas Manekshaw Nanavati , a commander in the Indian Navy was charged for murder of deceased Prem Ahuja under section 302 and 304, part 1 of IPC. On not finding him there, he made his way to Ahuja's home where he found Ahuja. After the confrontation, there was an altercation after which three shots were fired and Prem Ahuja dropped dead. This shows he had enough cooling time and provocation was neither grave nor sudden and that Nanavati had planned the murder. Moreover, according to the testimony of Ahuja's servant, Anjani, who was present at the house during the occurrence of the incident and so, was a natural witness, testified that there were four shots consecutively in quick succession and the entire event occurred in less than a minute thereby ruling out scuffle.\""
            ],
            "application/vnd.google.colaboratory.intrinsic+json": {
              "type": "string"
            }
          },
          "metadata": {},
          "execution_count": 54
        }
      ]
    },
    {
      "cell_type": "code",
      "execution_count": 51,
      "metadata": {
        "id": "gdP0hZbNpGUq",
        "colab": {
          "base_uri": "https://localhost:8080/"
        },
        "outputId": "f28c7bc9-7764-4a31-9237-46ae8da3e202"
      },
      "outputs": [
        {
          "output_type": "stream",
          "name": "stdout",
          "text": [
            "Response Time: 2.2447543144226074\n",
            "Summary: Appellant, Kawas Manekshaw Nanavati , a commander in the Indian Navy was charged for murder of deceased Prem Ahuja under section 302 and 304, part 1 of IPC. There was a verbal confrontation between the two men. The jury found him not guilty of murder which did not find favour with the Sessions Judge and he referred the case to Bombay High Court. When his body was discovered, his towel was still intact on his body. Moreover, after Sylvia's confession, a calm and collected Nanavati took them to a movie hall, dropped them there and then went to his shop to retrieve his pistol, that too under a false pretext.\n"
          ]
        }
      ],
      "source": [
        "start1 = time.time()\n",
        "resp1=model1(data)\n",
        "end1 = time.time()\n",
        "\n",
        "print(f'Response Time: {end1-start1}')\n",
        "print(f'Summary: {resp1}')"
      ]
    },
    {
      "cell_type": "code",
      "source": [
        "resp1"
      ],
      "metadata": {
        "id": "zBNHtF1_KaIh",
        "colab": {
          "base_uri": "https://localhost:8080/",
          "height": 105
        },
        "outputId": "47220bfd-33dd-42a1-8fd1-750d0887e710"
      },
      "execution_count": 53,
      "outputs": [
        {
          "output_type": "execute_result",
          "data": {
            "text/plain": [
              "\"Appellant, Kawas Manekshaw Nanavati , a commander in the Indian Navy was charged for murder of deceased Prem Ahuja under section 302 and 304, part 1 of IPC. There was a verbal confrontation between the two men. The jury found him not guilty of murder which did not find favour with the Sessions Judge and he referred the case to Bombay High Court. When his body was discovered, his towel was still intact on his body. Moreover, after Sylvia's confession, a calm and collected Nanavati took them to a movie hall, dropped them there and then went to his shop to retrieve his pistol, that too under a false pretext.\""
            ],
            "application/vnd.google.colaboratory.intrinsic+json": {
              "type": "string"
            }
          },
          "metadata": {},
          "execution_count": 53
        }
      ]
    },
    {
      "cell_type": "code",
      "execution_count": 52,
      "metadata": {
        "id": "-E5jnmBdpJVH",
        "colab": {
          "base_uri": "https://localhost:8080/"
        },
        "outputId": "5800801e-9549-410b-c0b0-892cb49508f4"
      },
      "outputs": [
        {
          "output_type": "stream",
          "name": "stdout",
          "text": [
            "Response Time: 14.40428900718689\n",
            "Summary: [{'summary_text': ' Kawas Manekshaw Nanavati was charged for murder of deceased Prem Ahuja under section 302 and 304, part 1 of IPC . The Supreme Court upheld that this was a clear case of premeditated murder and sentenced him to life imprisonment for culpable homicide amounting to murder .'}]\n"
          ]
        }
      ],
      "source": [
        "start2 = time.time()\n",
        "resp2=summarizer(data)\n",
        "end2 = time.time()\n",
        "\n",
        "print(f'Response Time: {end2-start2}')\n",
        "print(f'Summary: {resp2}')"
      ]
    },
    {
      "cell_type": "code",
      "source": [
        "resp2"
      ],
      "metadata": {
        "id": "LGbhD_jVK5J4",
        "colab": {
          "base_uri": "https://localhost:8080/"
        },
        "outputId": "795a5fa0-c92b-42fd-ed06-eae3eb57722d"
      },
      "execution_count": 55,
      "outputs": [
        {
          "output_type": "execute_result",
          "data": {
            "text/plain": [
              "[{'summary_text': ' Kawas Manekshaw Nanavati was charged for murder of deceased Prem Ahuja under section 302 and 304, part 1 of IPC . The Supreme Court upheld that this was a clear case of premeditated murder and sentenced him to life imprisonment for culpable homicide amounting to murder .'}]"
            ]
          },
          "metadata": {},
          "execution_count": 55
        }
      ]
    },
    {
      "cell_type": "code",
      "source": [],
      "metadata": {
        "id": "5qT2x6htLdcp"
      },
      "execution_count": null,
      "outputs": []
    }
  ],
  "metadata": {
    "colab": {
      "provenance": [],
      "collapsed_sections": []
    },
    "kernelspec": {
      "display_name": "Python 3",
      "name": "python3"
    },
    "language_info": {
      "name": "python"
    }
  },
  "nbformat": 4,
  "nbformat_minor": 0
}